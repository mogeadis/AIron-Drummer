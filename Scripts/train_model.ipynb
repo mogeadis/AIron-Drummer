{
  "cells": [
    {
      "cell_type": "markdown",
      "metadata": {
        "id": "tYtCv8pPU8cI"
      },
      "source": [
        "---\n",
        "\n",
        "***Filename***: train_model.ipynb\n",
        "\n",
        "---\n",
        "\n",
        "***Description***: This notebook builds, trains and tests the neural network model\n",
        "\n",
        "---\n",
        "\n",
        "***Author***: Alexandros Iliadis\n",
        "\n",
        "***Project***: AIron Drummer\n",
        "\n",
        "***Date***: July 2022\n",
        "\n",
        "---"
      ]
    },
    {
      "cell_type": "markdown",
      "metadata": {
        "id": "zNIG-9zZ0ZOh"
      },
      "source": [
        "### Runtime Calculation"
      ]
    },
    {
      "cell_type": "code",
      "execution_count": null,
      "metadata": {
        "id": "HlsUR_wF0cyQ"
      },
      "outputs": [],
      "source": [
        "import time\n",
        "start_time = time.time()"
      ]
    },
    {
      "cell_type": "markdown",
      "metadata": {
        "id": "rVU0tyCShQLx"
      },
      "source": [
        "### Import Modules"
      ]
    },
    {
      "cell_type": "code",
      "execution_count": null,
      "metadata": {
        "id": "ujpA5yRXhd1P"
      },
      "outputs": [],
      "source": [
        "import os\n",
        "import sys\n",
        "sys.path.append(os.path.abspath('../Modules'))\n",
        "from config import *\n",
        "from neuralNetwork import *\n",
        "import numpy as np"
      ]
    },
    {
      "cell_type": "markdown",
      "metadata": {
        "id": "s5bDkuhl0ltN"
      },
      "source": [
        "### Load Dataset"
      ]
    },
    {
      "cell_type": "code",
      "execution_count": null,
      "metadata": {
        "colab": {
          "base_uri": "https://localhost:8080/"
        },
        "id": "taTSVkJk0nSy",
        "outputId": "e4a8bef6-35b7-4d0a-e05d-52311f283c5b"
      },
      "outputs": [],
      "source": [
        "# Training Set\n",
        "train_input_path = os.path.join(dataset_path,'train_input.npy')\n",
        "train_output_path = os.path.join(dataset_path,'train_output.npy')\n",
        "if os.path.exists(train_input_path) and os.path.exists(train_output_path):\n",
        "    train_input = np.load(train_input_path)\n",
        "    train_output = np.load(train_output_path)\n",
        "    print('Training Data: Loaded')\n",
        "else:\n",
        "    train_input = None\n",
        "    train_output = None\n",
        "    print('Training Data: Missing')\n",
        "\n",
        "# Validation Set\n",
        "valid_input_path = os.path.join(dataset_path,'valid_input.npy')\n",
        "valid_output_path = os.path.join(dataset_path,'valid_output.npy')\n",
        "if os.path.exists(valid_input_path) and os.path.exists(valid_output_path):\n",
        "    valid_input = np.load(valid_input_path)\n",
        "    valid_output = np.load(valid_output_path)\n",
        "    print('Validation Data: Loaded')\n",
        "else:\n",
        "    valid_input = None\n",
        "    valid_output = None\n",
        "    print('Validation Data: Missing')\n",
        "\n",
        "# Testing Set\n",
        "test_input_path = os.path.join(dataset_path,'test_input.npy')\n",
        "test_output_path = os.path.join(dataset_path,'test_output.npy')\n",
        "if os.path.exists(test_input_path) and os.path.exists(test_output_path):\n",
        "    test_input = np.load(test_input_path)\n",
        "    test_output = np.load(test_output_path)\n",
        "    print('Testing Data: Loaded')\n",
        "else:\n",
        "    test_input = None\n",
        "    test_output = None\n",
        "    print('Testing Data: Missing')"
      ]
    },
    {
      "cell_type": "markdown",
      "metadata": {
        "id": "4DrAR4IR2pB3"
      },
      "source": [
        "### Build Neural Network Model"
      ]
    },
    {
      "cell_type": "code",
      "execution_count": null,
      "metadata": {
        "colab": {
          "base_uri": "https://localhost:8080/",
          "height": 982
        },
        "id": "xkoxbhJ63JzH",
        "outputId": "2db44534-5733-4d18-b99d-76151d50b886"
      },
      "outputs": [],
      "source": [
        "# Build Parameters\n",
        "input_size = train_input.shape[2]\n",
        "output_size = train_output.shape[2]\n",
        "num_of_units = 512\n",
        "dropout = 0.25\n",
        "\n",
        "# Build Model\n",
        "model = buildModel(input_size,output_size,num_of_units,dropout)\n",
        "\n",
        "# Display Model\n",
        "model.summary()"
      ]
    },
    {
      "cell_type": "markdown",
      "metadata": {
        "id": "6B3pVJ2O3Qr2"
      },
      "source": [
        "### Train Neural Network Model"
      ]
    },
    {
      "cell_type": "code",
      "execution_count": null,
      "metadata": {
        "colab": {
          "base_uri": "https://localhost:8080/",
          "height": 1000
        },
        "id": "7mSwtppi3S0T",
        "outputId": "7c061bed-2179-45e9-94cb-e44f32c62699"
      },
      "outputs": [],
      "source": [
        "# Training Parameters\n",
        "batch_size = 64\n",
        "epochs = 300\n",
        "save_period = 25\n",
        "\n",
        "# Train Model\n",
        "history = trainModel(model,train_input,train_output,valid_input,valid_output,\n",
        "                     batch_size,epochs,save_period,save_history = False)\n",
        "\n",
        "# Plot Training History\n",
        "if type(valid_input) != type(None) and type(valid_output) != type(None):\n",
        "    plotHistory(history,validation = True)\n",
        "else:\n",
        "    plotHistory(history,validation = False)"
      ]
    },
    {
      "cell_type": "markdown",
      "metadata": {
        "id": "i0Mit2sdMsV5"
      },
      "source": [
        "### Test Neural Network Model"
      ]
    },
    {
      "cell_type": "code",
      "execution_count": null,
      "metadata": {
        "colab": {
          "base_uri": "https://localhost:8080/"
        },
        "id": "X5n9QVVzMruZ",
        "outputId": "4e4b4541-1fe6-4576-c7ee-5e75ad05fc41"
      },
      "outputs": [],
      "source": [
        "# Test Model\n",
        "results = testModel(model,test_input,test_output,save_results = False)\n",
        "\n",
        "# Print Test Results\n",
        "if results != None:\n",
        "    print('Test Results:')\n",
        "    print('Loss: %.4f' % (results['Loss']))\n",
        "    print('Recall: %.2f %%' % (results['Recall']*100))\n",
        "    print('Precision: %.2f %%' % (results['Precision']*100))\n",
        "    print('F1-Score: %.2f %%' % (results['F1']*100))\n",
        "    print('Jaccard Index: %.2f %%' % (results['Jaccard']*100))\n",
        "else:\n",
        "    print('No Test Results')"
      ]
    },
    {
      "cell_type": "markdown",
      "metadata": {
        "id": "hRaDSb5Y2Xz7"
      },
      "source": [
        "### Runtime Calculation"
      ]
    },
    {
      "cell_type": "code",
      "execution_count": null,
      "metadata": {
        "colab": {
          "base_uri": "https://localhost:8080/"
        },
        "id": "cNtB3Rq22aZu",
        "outputId": "948b6a4b-61a3-49a6-b440-302bb37430c3"
      },
      "outputs": [],
      "source": [
        "print('Runtime: %.3f seconds' % (time.time() - start_time))"
      ]
    }
  ],
  "metadata": {
    "accelerator": "GPU",
    "colab": {
      "collapsed_sections": [],
      "name": "trainModel.ipynb",
      "provenance": []
    },
    "interpreter": {
      "hash": "0730a6df5a3868484dc613ae90a009f3b3c4dcc58c4b1484b6475fc298339e80"
    },
    "kernelspec": {
      "display_name": "Python 3.9.7 ('.venv': venv)",
      "language": "python",
      "name": "python3"
    },
    "language_info": {
      "codemirror_mode": {
        "name": "ipython",
        "version": 3
      },
      "file_extension": ".py",
      "mimetype": "text/x-python",
      "name": "python",
      "nbconvert_exporter": "python",
      "pygments_lexer": "ipython3",
      "version": "3.9.7"
    }
  },
  "nbformat": 4,
  "nbformat_minor": 0
}
